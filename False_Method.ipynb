{
  "nbformat": 4,
  "nbformat_minor": 0,
  "metadata": {
    "colab": {
      "provenance": [],
      "include_colab_link": true
    },
    "kernelspec": {
      "name": "python3",
      "display_name": "Python 3"
    },
    "language_info": {
      "name": "python"
    }
  },
  "cells": [
    {
      "cell_type": "markdown",
      "metadata": {
        "id": "view-in-github",
        "colab_type": "text"
      },
      "source": [
        "<a href=\"https://colab.research.google.com/github/dyarikamal/False-Method/blob/main/False_Method.ipynb\" target=\"_parent\"><img src=\"https://colab.research.google.com/assets/colab-badge.svg\" alt=\"Open In Colab\"/></a>"
      ]
    },
    {
      "cell_type": "code",
      "execution_count": 7,
      "metadata": {
        "colab": {
          "base_uri": "https://localhost:8080/"
        },
        "id": "ZYeweWFCxRAe",
        "outputId": "34e04d22-7a85-4acf-f6af-e93db311d859"
      },
      "outputs": [
        {
          "output_type": "stream",
          "name": "stdout",
          "text": [
            "Root found at x = 0.5687292640790165 after 10 iterations.\n"
          ]
        },
        {
          "output_type": "execute_result",
          "data": {
            "text/plain": [
              "0.5687292640790165"
            ]
          },
          "metadata": {},
          "execution_count": 7
        }
      ],
      "source": [
        "def f(x):\n",
        "    return 4 * x**2 + 3 * x - 3\n",
        "\n",
        "def false_position_method(a, b, tol=1e-6, max_iter=100):\n",
        "    # Initial values\n",
        "    fa = f(a)\n",
        "    fb = f(b)\n",
        "\n",
        "    if fa * fb > 0:\n",
        "        raise ValueError(\"The interval [a, b] does not bracket the root.\")\n",
        "\n",
        "    # Iterative false position method\n",
        "    for i in range(max_iter):\n",
        "        c = (a * fb - b * fa) / (fb - fa)\n",
        "        fc = f(c)\n",
        "\n",
        "        if abs(fc) < tol:\n",
        "            print(f\"Root found at x = {c} after {i + 1} iterations.\")\n",
        "            return c\n",
        "\n",
        "        if fc * fa < 0:\n",
        "            b = c\n",
        "            fb = fc\n",
        "        else:\n",
        "            a = c\n",
        "            fa = fc\n",
        "\n",
        "    print(\"Maximum number of iterations reached. No root found.\")\n",
        "    return None\n",
        "\n",
        "# Initial interval [a, b]\n",
        "a = 0\n",
        "b = 1\n",
        "\n",
        "# Call the false position method function\n",
        "false_position_method(a, b)\n"
      ]
    }
  ]
}