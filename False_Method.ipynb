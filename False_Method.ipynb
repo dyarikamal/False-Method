{
  "nbformat": 4,
  "nbformat_minor": 0,
  "metadata": {
    "colab": {
      "provenance": [],
      "include_colab_link": true
    },
    "kernelspec": {
      "name": "python3",
      "display_name": "Python 3"
    },
    "language_info": {
      "name": "python"
    }
  },
  "cells": [
    {
      "cell_type": "markdown",
      "metadata": {
        "id": "view-in-github",
        "colab_type": "text"
      },
      "source": [
        "<a href=\"https://colab.research.google.com/github/dyarikamal/False-Method/blob/main/False_Method.ipynb\" target=\"_parent\"><img src=\"https://colab.research.google.com/assets/colab-badge.svg\" alt=\"Open In Colab\"/></a>"
      ]
    },
    {
      "cell_type": "code",
      "execution_count": null,
      "metadata": {
        "colab": {
          "base_uri": "https://localhost:8080/"
        },
        "id": "ZYeweWFCxRAe",
        "outputId": "f8fb4718-9a79-4774-9216-fcfcddb3ac56"
      },
      "outputs": [
        {
          "output_type": "stream",
          "name": "stdout",
          "text": [
            "Finding Root Using False Method :>\n",
            "Interval : (1, 3)\n",
            "The Approximate root is : 1.259710430085038 \n"
          ]
        }
      ],
      "source": [
        "def falseMethod( function, a , b ):\n",
        "    function_a = function(a)\n",
        "    function_b = function(b)\n",
        "    if function(a) * function(b) > 0:\n",
        "        print(\"f(a) and f(b) must be different signs !\")\n",
        "        return None\n",
        "\n",
        "    for _ in range(50):\n",
        "        c = ((a * function(b)) - (b * function(a))) / (function(b) - function(a))\n",
        "\n",
        "        if function(c) == 0:\n",
        "            return c\n",
        "        if function(a) * function(c) > 0:\n",
        "            a = c\n",
        "            function_a = function(c)\n",
        "        if function(b) * function(c) > 0:\n",
        "            b = c\n",
        "            function_b = function(c)\n",
        "\n",
        "    return c\n",
        "\n",
        "\n",
        "function = lambda x: x ** 4 - 2 * x\n",
        "\n",
        "a = 1\n",
        "b = 3\n",
        "print(\"Finding Root Using False Method :>\")\n",
        "print(f\"Interval : {a, b}\")\n",
        "c = falseMethod(function, a, b)\n",
        "print(f\"The Approximate root is : {c} \")\n"
      ]
    }
  ]
}